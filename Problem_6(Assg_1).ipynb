6. Create a random vector of size 30 and find the mean value.

import numpy as np
vector = np.random.rand(30)
# print(vector)
print(np.mean(vector))
