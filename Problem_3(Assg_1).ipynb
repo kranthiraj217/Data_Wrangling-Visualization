3. Create a 3x3 matrix with values ranging from 0 to 8


import numpy as np
vector = np.arange(9)
matrix = vector.reshape(3,3)
print(matrix)
