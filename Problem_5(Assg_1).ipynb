5. Create a 10x10 array with random values and find the minimum and maximum values.

import numpy as np
array = np.random.rand(10,10)
min_val = np.min(array)
max_val = np.max(array)
# print("Array : ",array)
print("Minimum Value :", min_val)
print("Maximum Value :",max_val)
